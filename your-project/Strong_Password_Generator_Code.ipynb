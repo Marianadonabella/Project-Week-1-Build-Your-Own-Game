{
 "cells": [
  {
   "cell_type": "code",
   "execution_count": 1,
   "metadata": {
    "scrolled": true
   },
   "outputs": [],
   "source": [
    "import random"
   ]
  },
  {
   "cell_type": "code",
   "execution_count": 8,
   "metadata": {},
   "outputs": [],
   "source": [
    "def create_my_password():\n",
    "    \n",
    "    password_len = int(input(\"How many characters do you want the password to have? \"))\n",
    "    \n",
    "    numbers = ['0','1','2','3','4','5','6','7','8','9']\n",
    "    lower_letters = ['a', 'b', 'c', 'd', 'e', 'f', 'g', 'h','i', 'j', 'k', 'm', 'n', 'o', 'p', 'q','r', 's', 't', 'u', 'v', 'w', 'x', 'y','z']\n",
    "    upper_letters = ['A', 'B', 'C', 'D', 'E', 'F', 'G', 'H','I', 'J', 'K', 'M', 'N', 'O', 'P', 'Q','R', 'S', 'T', 'U', 'V', 'W', 'X', 'Y', 'Z']\n",
    "    special_char = ['!','.',',','&','%','@','*','#']\n",
    "\n",
    "\n",
    "    random_number = random.choice(numbers) \n",
    "    random_lower = random.choice(lower_letters) \n",
    "    random_upper = random.choice(upper_letters) \n",
    "    random_special = random.choice(special_char)\n",
    "\n",
    "    password_part1 = random_number + random_lower + random_upper + random_special\n",
    "\n",
    "    all_options = numbers + lower_letters + upper_letters + special_char\n",
    "\n",
    "    password_part2 = \"\"\n",
    "\n",
    "    for i in range(0,password_len-4):\n",
    "        i = (random.choice(all_options))\n",
    "        password_part2 = password_part2 + i\n",
    "    \n",
    "    password = password_part1 + password_part2\n",
    "    \n",
    "    return \"Your password is: \" + password"
   ]
  },
  {
   "cell_type": "code",
   "execution_count": 9,
   "metadata": {},
   "outputs": [
    {
     "name": "stdout",
     "output_type": "stream",
     "text": [
      "How many characters do you want the password to have? 7\n"
     ]
    },
    {
     "data": {
      "text/plain": [
       "'Your password is: 6yM*#NF'"
      ]
     },
     "execution_count": 9,
     "metadata": {},
     "output_type": "execute_result"
    }
   ],
   "source": [
    "create_my_password()"
   ]
  },
  {
   "cell_type": "code",
   "execution_count": null,
   "metadata": {},
   "outputs": [],
   "source": [
    "## Below you will find step by step of writing the code "
   ]
  },
  {
   "cell_type": "code",
   "execution_count": null,
   "metadata": {},
   "outputs": [],
   "source": [
    "## Defining password lenght:\n",
    "\n",
    "password_len = int(input(\"How many characters do you want the password to have? \"))"
   ]
  },
  {
   "cell_type": "code",
   "execution_count": null,
   "metadata": {},
   "outputs": [],
   "source": [
    "## Defining possible characters and their \"types\"\n",
    "\n",
    "numbers = ['0','1','2','3','4','5','6','7','8','9']\n",
    "lower_letters = ['a', 'b', 'c', 'd', 'e', 'f', 'g', 'h','i', 'j', 'k', 'm', 'n', 'o', 'p', 'q','r', 's', 't', 'u', 'v', 'w', 'x', 'y','z']\n",
    "upper_letters = ['A', 'B', 'C', 'D', 'E', 'F', 'G', 'H','I', 'J', 'K', 'M', 'N', 'O', 'P', 'Q','R', 'S', 'T', 'U', 'V', 'W', 'X', 'Y', 'Z']\n",
    "special_char = ['!','.',',','&','%','@','*','#']\n"
   ]
  },
  {
   "cell_type": "code",
   "execution_count": null,
   "metadata": {},
   "outputs": [],
   "source": [
    "# randomly selecting one character from each list \n",
    "import random\n",
    "\n",
    "random_number = random.choice(numbers) \n",
    "random_lower = random.choice(lower_letters) \n",
    "random_upper = random.choice(upper_letters) \n",
    "random_special = random.choice(special_char) \n",
    "  \n",
    "# combining mandatory characters \n",
    "\n",
    "password_part1 = random_number + random_lower + random_upper + random_special \n",
    "  \n"
   ]
  },
  {
   "cell_type": "code",
   "execution_count": null,
   "metadata": {},
   "outputs": [],
   "source": [
    "# select rest of characters from all the options randomly\n",
    "\n",
    "all_options = numbers + lower_letters + upper_letters + special_char\n",
    "\n",
    "password_part2 = \"\"\n",
    "\n",
    "for i in range(0,password_len-4):\n",
    "    i = (random.choice(all_options))\n",
    "    password_part2 = password_part2 + i\n",
    "    \n",
    "password = password_part1 + password_part2\n",
    "\n",
    "print(password) "
   ]
  }
 ],
 "metadata": {
  "kernelspec": {
   "display_name": "Python 3",
   "language": "python",
   "name": "python3"
  },
  "language_info": {
   "codemirror_mode": {
    "name": "ipython",
    "version": 3
   },
   "file_extension": ".py",
   "mimetype": "text/x-python",
   "name": "python",
   "nbconvert_exporter": "python",
   "pygments_lexer": "ipython3",
   "version": "3.7.4"
  },
  "toc": {
   "base_numbering": 1,
   "nav_menu": {},
   "number_sections": true,
   "sideBar": true,
   "skip_h1_title": false,
   "title_cell": "Table of Contents",
   "title_sidebar": "Contents",
   "toc_cell": false,
   "toc_position": {},
   "toc_section_display": true,
   "toc_window_display": false
  },
  "varInspector": {
   "cols": {
    "lenName": 16,
    "lenType": 16,
    "lenVar": 40
   },
   "kernels_config": {
    "python": {
     "delete_cmd_postfix": "",
     "delete_cmd_prefix": "del ",
     "library": "var_list.py",
     "varRefreshCmd": "print(var_dic_list())"
    },
    "r": {
     "delete_cmd_postfix": ") ",
     "delete_cmd_prefix": "rm(",
     "library": "var_list.r",
     "varRefreshCmd": "cat(var_dic_list()) "
    }
   },
   "types_to_exclude": [
    "module",
    "function",
    "builtin_function_or_method",
    "instance",
    "_Feature"
   ],
   "window_display": false
  }
 },
 "nbformat": 4,
 "nbformat_minor": 2
}
