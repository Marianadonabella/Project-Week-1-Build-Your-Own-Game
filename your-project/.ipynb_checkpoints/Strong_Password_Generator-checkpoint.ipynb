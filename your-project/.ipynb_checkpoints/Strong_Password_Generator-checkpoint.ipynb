{
 "cells": [
  {
   "cell_type": "code",
   "execution_count": null,
   "metadata": {},
   "outputs": [],
   "source": [
    "## Defining possible characters and their \"types\"\n",
    "\n",
    "Numbers = ['0','1','2','3','4','5','6','7','8','9']\n",
    "Lower_letters = ['a', 'b', 'c', 'd', 'e', 'f', 'g', 'h','i', 'j', 'k', 'm', 'n', 'o', 'p', 'q','r', 's', 't', 'u', 'v', 'w', 'x', 'y','z']\n",
    "Upper_letters = ['A', 'B', 'C', 'D', 'E', 'F', 'G', 'H','I', 'J', 'K', 'M', 'N', 'O', 'P', 'Q','R', 'S', 'T', 'U', 'V', 'W', 'X', 'Y', 'Z']\n",
    "Special_characters = ['!','.',',','&','%','@','*','#']\n"
   ]
  },
  {
   "cell_type": "code",
   "execution_count": null,
   "metadata": {},
   "outputs": [],
   "source": [
    "# combines all the character arrays above to form one array \n",
    "COMBINED_LIST = DIGITS + UPCASE_CHARACTERS + LOCASE_CHARACTERS + SYMBOLS \n",
    "  \n",
    "# randomly select at least one character from each character set above \n",
    "rand_digit = random.choice(DIGITS) \n",
    "rand_upper = random.choice(UPCASE_CHARACTERS) \n",
    "rand_lower = random.choice(LOCASE_CHARACTERS) \n",
    "rand_symbol = random.choice(SYMBOLS) \n",
    "  \n",
    "# combine the character randomly selected above \n",
    "# at this stage, the password contains only 4 characters but  \n",
    "# we want a 12-character password \n",
    "temp_pass = rand_digit + rand_upper + rand_lower + rand_symbol \n",
    "  \n",
    "  \n",
    "# now that we are sure we have at least one character from each \n",
    "# set of characters, we fill the rest of \n",
    "# the password length by selecting randomly from the combined  \n",
    "# list of character above. \n",
    "for x in range(MAX_LEN - 4): \n",
    "    temp_pass = temp_pass + random.choice(COMBINED_LIST) \n",
    "    # convert temporary password into array and shuffle to  \n",
    "    # prevent it from having a consistent pattern \n",
    "    # where the beginning of the password is predictable \n",
    "    temp_pass_list = array.array(&# 039;u&# 039;, temp_pass) \n",
    "    random.shuffle(temp_pass_list) \n",
    "  \n",
    "# traverse the temporary password array and append the chars \n",
    "# to form the password \n",
    "password = \"\" \n",
    "for x in temp_pass_list: \n",
    "        password = password + x \n",
    "          \n",
    "# print out password \n",
    "print(password) "
   ]
  },
  {
   "cell_type": "code",
   "execution_count": null,
   "metadata": {},
   "outputs": [],
   "source": [
    "## Defining password lenght:\n",
    "\n",
    "password_len = int(input(\"How many characters do you want the password to have? \"))\n"
   ]
  },
  {
   "cell_type": "code",
   "execution_count": null,
   "metadata": {},
   "outputs": [],
   "source": []
  }
 ],
 "metadata": {
  "kernelspec": {
   "display_name": "Python 3",
   "language": "python",
   "name": "python3"
  },
  "language_info": {
   "codemirror_mode": {
    "name": "ipython",
    "version": 3
   },
   "file_extension": ".py",
   "mimetype": "text/x-python",
   "name": "python",
   "nbconvert_exporter": "python",
   "pygments_lexer": "ipython3",
   "version": "3.7.4"
  },
  "toc": {
   "base_numbering": 1,
   "nav_menu": {},
   "number_sections": true,
   "sideBar": true,
   "skip_h1_title": false,
   "title_cell": "Table of Contents",
   "title_sidebar": "Contents",
   "toc_cell": false,
   "toc_position": {},
   "toc_section_display": true,
   "toc_window_display": false
  },
  "varInspector": {
   "cols": {
    "lenName": 16,
    "lenType": 16,
    "lenVar": 40
   },
   "kernels_config": {
    "python": {
     "delete_cmd_postfix": "",
     "delete_cmd_prefix": "del ",
     "library": "var_list.py",
     "varRefreshCmd": "print(var_dic_list())"
    },
    "r": {
     "delete_cmd_postfix": ") ",
     "delete_cmd_prefix": "rm(",
     "library": "var_list.r",
     "varRefreshCmd": "cat(var_dic_list()) "
    }
   },
   "types_to_exclude": [
    "module",
    "function",
    "builtin_function_or_method",
    "instance",
    "_Feature"
   ],
   "window_display": false
  }
 },
 "nbformat": 4,
 "nbformat_minor": 2
}
