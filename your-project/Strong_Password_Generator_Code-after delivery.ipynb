{
 "cells": [
  {
   "cell_type": "code",
   "execution_count": null,
   "metadata": {
    "scrolled": true
   },
   "outputs": [],
   "source": [
    "import random"
   ]
  },
  {
   "cell_type": "code",
   "execution_count": null,
   "metadata": {},
   "outputs": [],
   "source": [
    "def create_my_password():\n",
    "    \n",
    "    password_len = int(input(\"How many characters do you want the password to have? \"))\n",
    "    \n",
    "    numbers = ['0','1','2','3','4','5','6','7','8','9']\n",
    "    lower_letters = ['a', 'b', 'c', 'd', 'e', 'f', 'g', 'h','i', 'j', 'k', 'm', 'n', 'o', 'p', 'q','r', 's', 't', 'u', 'v', 'w', 'x', 'y','z']\n",
    "    upper_letters = ['A', 'B', 'C', 'D', 'E', 'F', 'G', 'H','I', 'J', 'K', 'M', 'N', 'O', 'P', 'Q','R', 'S', 'T', 'U', 'V', 'W', 'X', 'Y', 'Z']\n",
    "    special_char = ['!','.',',','&','%','@','*','#']\n",
    "\n",
    "\n",
    "    random_number = random.choice(numbers) \n",
    "    random_lower = random.choice(lower_letters) \n",
    "    random_upper = random.choice(upper_letters) \n",
    "    random_special = random.choice(special_char)\n",
    "\n",
    "    password_part1 = random_number + random_lower + random_upper + random_special\n",
    "\n",
    "    all_options = numbers + lower_letters + upper_letters + special_char\n",
    "\n",
    "    password_part2 = \"\"\n",
    "\n",
    "    for i in range(0,password_len-4):\n",
    "        i = (random.choice(all_options))\n",
    "        password_part2 = password_part2 + i\n",
    "    \n",
    "    password = password_part1 + password_part2\n",
    "    \n",
    "    return \"Your password is: \" + password"
   ]
  },
  {
   "cell_type": "code",
   "execution_count": null,
   "metadata": {},
   "outputs": [],
   "source": [
    "create_my_password()"
   ]
  },
  {
   "cell_type": "code",
   "execution_count": null,
   "metadata": {},
   "outputs": [],
   "source": [
    "## Below you will find step by step of writing the code "
   ]
  },
  {
   "cell_type": "code",
   "execution_count": 4,
   "metadata": {},
   "outputs": [
    {
     "name": "stdout",
     "output_type": "stream",
     "text": [
      "How many characters do you want the password to have? 8\n",
      "Do you want you password to have numbers? Type 'y' or 'n'y\n",
      "Do you want you password to have lower letters? Type 'y' or 'n'y\n",
      "Do you want you password to have upper letters? Type 'y' or 'n'y\n",
      "Do you want you password to have special characters? Type 'y' or 'n'y\n"
     ]
    }
   ],
   "source": [
    "## Defining password lenght:\n",
    "\n",
    "password_len = int(input(\"How many characters do you want the password to have? \"))\n",
    "\n",
    "while password_len < 4 or password_len > 12:\n",
    "    print(\"No no. It needs to have between 4 or 12 characters. Please type a number between 4 and 12\")\n",
    "    password_len = int(input(\"How many characters do you want the password to have? \"))\n",
    "    if password_len <= 4 and password_len >= 12:\n",
    "        break\n",
    "\n",
    "number_yes = input(\"Do you want you password to have numbers? Type 'y' or 'n': \")\n",
    "lower_yes = input(\"Do you want you password to have lower letters? Type 'y' or 'n': \")\n",
    "upper_yes = input(\"Do you want you password to have upper letters? Type 'y' or 'n': \")\n",
    "special_yes = input(\"Do you want you password to have special characters? Type 'y' or 'n': \")"
   ]
  },
  {
   "cell_type": "code",
   "execution_count": 9,
   "metadata": {},
   "outputs": [],
   "source": [
    "## Defining possible characters and their \"types\"\n",
    "\n",
    "numbers = ['0','1','2','3','4','5','6','7','8','9']\n",
    "lower_letters = ['a', 'b', 'c', 'd', 'e', 'f', 'g', 'h','i', 'j', 'k', 'm', 'n', 'o', 'p', 'q','r', 's', 't', 'u', 'v', 'w', 'x', 'y','z']\n",
    "upper_letters = ['A', 'B', 'C', 'D', 'E', 'F', 'G', 'H','I', 'J', 'K', 'M', 'N', 'O', 'P', 'Q','R', 'S', 'T', 'U', 'V', 'W', 'X', 'Y', 'Z']\n",
    "special_char = ['!','.',',','&','%','@','*','#']\n"
   ]
  },
  {
   "cell_type": "code",
   "execution_count": 10,
   "metadata": {},
   "outputs": [],
   "source": [
    "import random\n",
    "\n",
    "random_number = random.choice(numbers) \n",
    "random_lower = random.choice(lower_letters) \n",
    "random_upper = random.choice(upper_letters) \n",
    "random_special = random.choice(special_char)\n",
    "\n",
    "if number_yes == 'y' and lower_yes == 'y' and upper_yes == 'y' and special_yes == 'y':\n",
    "    password_part1 = random_number + random_lower + random_upper + random_special\n",
    "    if number_yes == 'y' and lower_yes == 'y' and upper_yes == 'y' and special_yes == 'n':\n",
    "        password_part1 = random_number + random_lower + random_upper + random_number\n",
    "        if number_yes == 'y' and lower_yes == 'y' and upper_yes == 'n' and special_yes == 'n':\n",
    "            password_part1 = random_number + random_lower + random_number + random_lower\n",
    "            if number_yes == 'y' and lower_yes == 'n' and upper_yes == 'n' and special_yes == 'n':\n",
    "                password_part1 = random_upper + random_upper + random_upper + random_upper\n",
    "        \n",
    "        "
   ]
  },
  {
   "cell_type": "code",
   "execution_count": 11,
   "metadata": {},
   "outputs": [
    {
     "name": "stdout",
     "output_type": "stream",
     "text": [
      "3uT!J5.F\n"
     ]
    }
   ],
   "source": [
    "# select rest of characters from all the options randomly\n",
    "if number_yes == 'y' and lower_yes == 'y' and upper_yes == 'y' and special_yes == 'y':\n",
    "    all_options = numbers + lower_letters + upper_letters + special_char\n",
    "    if number_yes == 'y' and lower_yes == 'y' and upper_yes == 'y' and special_yes == 'n':\n",
    "        all_options = numbers + lower_letters + upper_letters\n",
    "        if number_yes == 'y' and lower_yes == 'y' and upper_yes == 'n' and special_yes == 'n':\n",
    "            all_options = numbers + lower_letters\n",
    "            if number_yes == 'y' and lower_yes == 'n' and upper_yes == 'n' and special_yes == 'n':\n",
    "                all_options = numbers\n",
    "\n",
    "\n",
    "password_part2 = \"\"\n",
    "\n",
    "for i in range(0,password_len-4):\n",
    "    i = (random.choice(all_options))\n",
    "    password_part2 = password_part2 + i\n",
    "    \n",
    "password = password_part1 + password_part2\n",
    "\n",
    "print(password) "
   ]
  },
  {
   "cell_type": "code",
   "execution_count": null,
   "metadata": {},
   "outputs": [],
   "source": []
  }
 ],
 "metadata": {
  "kernelspec": {
   "display_name": "Python 3",
   "language": "python",
   "name": "python3"
  },
  "language_info": {
   "codemirror_mode": {
    "name": "ipython",
    "version": 3
   },
   "file_extension": ".py",
   "mimetype": "text/x-python",
   "name": "python",
   "nbconvert_exporter": "python",
   "pygments_lexer": "ipython3",
   "version": "3.7.4"
  },
  "toc": {
   "base_numbering": 1,
   "nav_menu": {},
   "number_sections": true,
   "sideBar": true,
   "skip_h1_title": false,
   "title_cell": "Table of Contents",
   "title_sidebar": "Contents",
   "toc_cell": false,
   "toc_position": {},
   "toc_section_display": true,
   "toc_window_display": false
  },
  "varInspector": {
   "cols": {
    "lenName": 16,
    "lenType": 16,
    "lenVar": 40
   },
   "kernels_config": {
    "python": {
     "delete_cmd_postfix": "",
     "delete_cmd_prefix": "del ",
     "library": "var_list.py",
     "varRefreshCmd": "print(var_dic_list())"
    },
    "r": {
     "delete_cmd_postfix": ") ",
     "delete_cmd_prefix": "rm(",
     "library": "var_list.r",
     "varRefreshCmd": "cat(var_dic_list()) "
    }
   },
   "types_to_exclude": [
    "module",
    "function",
    "builtin_function_or_method",
    "instance",
    "_Feature"
   ],
   "window_display": false
  }
 },
 "nbformat": 4,
 "nbformat_minor": 2
}
